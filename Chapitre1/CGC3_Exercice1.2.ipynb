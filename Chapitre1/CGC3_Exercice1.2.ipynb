{
  "nbformat": 4,
  "nbformat_minor": 0,
  "metadata": {
    "colab": {
      "name": "CGC3-Exercice1.2.ipynb",
      "version": "0.3.2",
      "provenance": [],
      "collapsed_sections": [],
      "include_colab_link": true
    },
    "kernelspec": {
      "name": "python3",
      "display_name": "Python 3"
    }
  },
  "cells": [
    {
      "cell_type": "markdown",
      "metadata": {
        "id": "view-in-github",
        "colab_type": "text"
      },
      "source": [
        "[View in Colaboratory](https://colab.research.google.com/github/tchappui/heia-cours-genie-chimique/blob/master/Chapitre1/CGC3_Exercice1.2.ipynb)"
      ]
    },
    {
      "metadata": {
        "id": "-GOxgPB7v52i",
        "colab_type": "text"
      },
      "cell_type": "markdown",
      "source": [
        "# Exercice 1.2\n",
        "\n"
      ]
    },
    {
      "metadata": {
        "id": "1npR7_mHwHEr",
        "colab_type": "text"
      },
      "cell_type": "markdown",
      "source": [
        "On commence par rechercher les contantes sur NIST Webbook et définir les constantes comme par exemple la pression de notre système."
      ]
    },
    {
      "metadata": {
        "id": "4lZ4Bv-isDbV",
        "colab_type": "text"
      },
      "cell_type": "markdown",
      "source": [
        "## Résolution à la main"
      ]
    },
    {
      "metadata": {
        "id": "iNsnXB8av4oB",
        "colab_type": "code",
        "colab": {}
      },
      "cell_type": "code",
      "source": [
        "benzene = {\n",
        "    'A': 4.72583,\t\n",
        "    'B': 1660.652,\n",
        "    'C': -1.461\n",
        "}\n",
        "\n",
        "toluene = {\n",
        "    'A': 4.07827,\n",
        "    'B': 1343.943,\n",
        "    'C': -53.773\n",
        "}\n",
        "\n",
        "Psys = 0.9"
      ],
      "execution_count": 0,
      "outputs": []
    },
    {
      "metadata": {
        "id": "wwRLJgeswyHm",
        "colab_type": "code",
        "colab": {}
      },
      "cell_type": "code",
      "source": [
        "def antoine(produit, T):\n",
        "    \"\"\"Calcule la pression de vapeur saturante pour un produit\n",
        "    donné en bar à une température T donnée en K.\n",
        "    \"\"\"\n",
        "    log10_p = produit['A'] - produit['B'] / (T + produit['C'])\n",
        "    return 10 ** log10_p"
      ],
      "execution_count": 0,
      "outputs": []
    },
    {
      "metadata": {
        "id": "1Lwe3xFgxJEX",
        "colab_type": "code",
        "colab": {}
      },
      "cell_type": "code",
      "source": [
        "def raoult(produit, x, T):\n",
        "    \"\"\"Calcule la pression partielle d'un produit à l'aide de la loi de Raoult\n",
        "    à une température T donnée en K et une fraction molaire x.\n",
        "    \"\"\"\n",
        "    return x * antoine(produit, T)"
      ],
      "execution_count": 0,
      "outputs": []
    },
    {
      "metadata": {
        "id": "PGxEZH6tx-7r",
        "colab_type": "code",
        "colab": {
          "base_uri": "https://localhost:8080/",
          "height": 34
        },
        "outputId": "926557a4-dc06-4ec8-b024-5c5ac7f91a87"
      },
      "cell_type": "code",
      "source": [
        "Teb = 94.375 + 273.15\n",
        "\n",
        "raoult(benzene, 0.3, Teb) + raoult(toluene, 0.7, Teb)\n",
        "\n",
        "print(f\"La pression d'ébullition de notre mélange est de {Psys:.4} (bar)\")"
      ],
      "execution_count": 11,
      "outputs": [
        {
          "output_type": "stream",
          "text": [
            "La pression d'ébullition de notre mélange est de 0.9 (bar)\n"
          ],
          "name": "stdout"
        }
      ]
    },
    {
      "metadata": {
        "id": "cBbNYu7WsNwZ",
        "colab_type": "text"
      },
      "cell_type": "markdown",
      "source": [
        "## Résolution à l'aide d'un solveur"
      ]
    },
    {
      "metadata": {
        "id": "HyQ1Fl4Ryo0A",
        "colab_type": "code",
        "colab": {}
      },
      "cell_type": "code",
      "source": [
        "import scipy.optimize as opt"
      ],
      "execution_count": 0,
      "outputs": []
    },
    {
      "metadata": {
        "id": "ZE4j2UAvu6Oh",
        "colab_type": "code",
        "colab": {}
      },
      "cell_type": "code",
      "source": [
        "def equation(Teb, produit_A, produit_B, xA):\n",
        "    return raoult(produit_A, xA, Teb) + raoult(produit_B, 1-xA, Teb) - Psys"
      ],
      "execution_count": 0,
      "outputs": []
    },
    {
      "metadata": {
        "id": "s2el110evnGF",
        "colab_type": "code",
        "colab": {
          "base_uri": "https://localhost:8080/",
          "height": 204
        },
        "outputId": "17c6a933-8f08-432e-9591-1743e91cc494"
      },
      "cell_type": "code",
      "source": [
        "for xA in [0, 0.1, 0.2, 0.3, 0.4, 0.5, 0.6, 0.7, 0.8, 0.9, 1]:\n",
        "    print(xA, opt.fsolve(equation, 80 + 273, (benzene, toluene, xA)) - 273.15)"
      ],
      "execution_count": 14,
      "outputs": [
        {
          "output_type": "stream",
          "text": [
            "0 [106.50419334]\n",
            "0.1 [101.98335661]\n",
            "0.2 [97.96679789]\n",
            "0.3 [94.36208836]\n",
            "0.4 [91.09938465]\n",
            "0.5 [88.12470564]\n",
            "0.6 [85.39552718]\n",
            "0.7 [82.87779858]\n",
            "0.8 [80.54386469]\n",
            "0.9 [78.37098359]\n",
            "1 [76.34024672]\n"
          ],
          "name": "stdout"
        }
      ]
    },
    {
      "metadata": {
        "id": "HPd5qbUxv2vU",
        "colab_type": "code",
        "colab": {}
      },
      "cell_type": "code",
      "source": [
        ""
      ],
      "execution_count": 0,
      "outputs": []
    }
  ]
}