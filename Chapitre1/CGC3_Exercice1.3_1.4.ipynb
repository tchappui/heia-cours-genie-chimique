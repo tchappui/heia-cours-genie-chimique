{
  "nbformat": 4,
  "nbformat_minor": 0,
  "metadata": {
    "colab": {
      "name": "CGC3-Exercice1.3-1.4.ipynb",
      "version": "0.3.2",
      "provenance": [],
      "collapsed_sections": [],
      "include_colab_link": true
    },
    "kernelspec": {
      "name": "python3",
      "display_name": "Python 3"
    }
  },
  "cells": [
    {
      "cell_type": "markdown",
      "metadata": {
        "id": "view-in-github",
        "colab_type": "text"
      },
      "source": [
        "[View in Colaboratory](https://colab.research.google.com/github/tchappui/heia-cours-genie-chimique/blob/master/Chapitre1/CGC3_Exercice1.3_1.4.ipynb)"
      ]
    },
    {
      "metadata": {
        "id": "-GOxgPB7v52i",
        "colab_type": "text"
      },
      "cell_type": "markdown",
      "source": [
        "# Exercices 1.3 et 1.4\n",
        "\n",
        "\n"
      ]
    },
    {
      "metadata": {
        "id": "mXsYoiD0zglS",
        "colab_type": "text"
      },
      "cell_type": "markdown",
      "source": [
        "On commence par importer le solveur pour résoudre notre équation."
      ]
    },
    {
      "metadata": {
        "id": "HyQ1Fl4Ryo0A",
        "colab_type": "code",
        "colab": {}
      },
      "cell_type": "code",
      "source": [
        "import math as m\n",
        "\n",
        "import scipy.optimize as opt\n",
        "import numpy as np\n",
        "import matplotlib.pyplot as plt"
      ],
      "execution_count": 0,
      "outputs": []
    },
    {
      "metadata": {
        "id": "1npR7_mHwHEr",
        "colab_type": "text"
      },
      "cell_type": "markdown",
      "source": [
        "On commence par rechercher les contantes sur NIST Webbook et définir les constantes comme par exemple la pression de notre système."
      ]
    },
    {
      "metadata": {
        "id": "iNsnXB8av4oB",
        "colab_type": "code",
        "colab": {}
      },
      "cell_type": "code",
      "source": [
        "hexane = {\n",
        "    'A': 4.00266,\t\n",
        "    'B': 1171.53,\n",
        "    'C': -48.784\n",
        "}\n",
        "\n",
        "ethanol = {\n",
        "    'A': 5.24677,\n",
        "    'B': 1598.673,\n",
        "    'C': -46.424\n",
        "}\n"
      ],
      "execution_count": 0,
      "outputs": []
    },
    {
      "metadata": {
        "id": "wwRLJgeswyHm",
        "colab_type": "code",
        "colab": {}
      },
      "cell_type": "code",
      "source": [
        "def antoine(produit, T):\n",
        "    \"\"\"Calcule la pression de vapeur saturante pour un produit\n",
        "    donné en bar à une température T donnée en K.\n",
        "    \"\"\"\n",
        "    log10_p = produit['A'] - produit['B'] / (T + produit['C'])\n",
        "    return 10 ** log10_p\n"
      ],
      "execution_count": 0,
      "outputs": []
    },
    {
      "metadata": {
        "id": "1Lwe3xFgxJEX",
        "colab_type": "code",
        "colab": {}
      },
      "cell_type": "code",
      "source": [
        "def raoult(produit, x, T):\n",
        "    \"\"\"Calcule la pression partielle d'un produit à l'aide de la loi de Raoult\n",
        "    à une température T donnée en K et une fraction molaire x.\n",
        "    \"\"\"\n",
        "    return x * antoine(produit, T)"
      ],
      "execution_count": 0,
      "outputs": []
    },
    {
      "metadata": {
        "id": "XLKVCpmR21UB",
        "colab_type": "code",
        "colab": {}
      },
      "cell_type": "code",
      "source": [
        "def corrected_raoult(produit, x, T, gamma):\n",
        "    return gamma * raoult(produit, x, T)\n"
      ],
      "execution_count": 0,
      "outputs": []
    },
    {
      "metadata": {
        "id": "Zuhu6rMJ9j4E",
        "colab_type": "code",
        "colab": {}
      },
      "cell_type": "code",
      "source": [
        "def compute_vanlaar_params(gammaA, gammaB, xA):\n",
        "    xB = 1 - xA\n",
        "    A = m.log(gammaA) * (1 + (xB * m.log(gammaB))/(xA * m.log(gammaA)))**2\n",
        "    B = m.log(gammaB) * (1 + (xA * m.log(gammaA))/(xB * m.log(gammaB)))**2\n",
        "    return A, B"
      ],
      "execution_count": 0,
      "outputs": []
    },
    {
      "metadata": {
        "id": "J6O4pv5w9jsN",
        "colab_type": "code",
        "colab": {}
      },
      "cell_type": "code",
      "source": [
        "def vanlaar(A, B, xA):\n",
        "    xB = 1 - xA\n",
        "    ln_gammaA = A / (1 + (xA * A) / (xB * B))**2\n",
        "    ln_gammaB = B / (1 + (xB * B) / (xA * A))**2\n",
        "    return m.e**ln_gammaA, m.e**ln_gammaB"
      ],
      "execution_count": 0,
      "outputs": []
    },
    {
      "metadata": {
        "id": "OKP1enu03LHs",
        "colab_type": "text"
      },
      "cell_type": "markdown",
      "source": [
        "On commencer par déterminer les coefficients d'activité de A et de B dans les conditions du point azéotropique, soit une fraction molaire de 33.2 mol% d'hexane et une température d'ébullition du mélange de 58.7 °C."
      ]
    },
    {
      "metadata": {
        "id": "K1GLAOQ43KdX",
        "colab_type": "code",
        "colab": {}
      },
      "cell_type": "code",
      "source": [
        "Psys = 1.01325 # bar (1 atm)\n",
        "Tsys = 58.7 + 273.15 # (K)\n",
        "xH_azeo = 0.332\n",
        "xE_azeo = 1 - xH_azeo"
      ],
      "execution_count": 0,
      "outputs": []
    },
    {
      "metadata": {
        "id": "TksazQVK3pBN",
        "colab_type": "text"
      },
      "cell_type": "markdown",
      "source": [
        "Les pressions de vapeur saturantes selon Antoine sont:"
      ]
    },
    {
      "metadata": {
        "id": "e96Jvsbb3oeG",
        "colab_type": "code",
        "colab": {
          "base_uri": "https://localhost:8080/",
          "height": 34
        },
        "outputId": "f3362da9-fdbe-4c97-e8d3-2cc4d1685388"
      },
      "cell_type": "code",
      "source": [
        "PS_hexane = antoine(hexane, Tsys)\n",
        "PS_hexane"
      ],
      "execution_count": 9,
      "outputs": [
        {
          "output_type": "execute_result",
          "data": {
            "text/plain": [
              "0.7310435241055441"
            ]
          },
          "metadata": {
            "tags": []
          },
          "execution_count": 9
        }
      ]
    },
    {
      "metadata": {
        "id": "8miY1-um37Gw",
        "colab_type": "code",
        "colab": {
          "base_uri": "https://localhost:8080/",
          "height": 34
        },
        "outputId": "1fb93afa-b49b-4dfe-e953-6b953cbfb7e5"
      },
      "cell_type": "code",
      "source": [
        "PS_ethanol = antoine(ethanol, Tsys)\n",
        "PS_ethanol"
      ],
      "execution_count": 10,
      "outputs": [
        {
          "output_type": "execute_result",
          "data": {
            "text/plain": [
              "0.44234699775114633"
            ]
          },
          "metadata": {
            "tags": []
          },
          "execution_count": 10
        }
      ]
    },
    {
      "metadata": {
        "id": "GODpV7Y_4ANC",
        "colab_type": "code",
        "colab": {
          "base_uri": "https://localhost:8080/",
          "height": 34
        },
        "outputId": "edf1fbb1-81ca-405d-a8e2-c7a6f6263378"
      },
      "cell_type": "code",
      "source": [
        "gamma_hexane = Psys / PS_hexane\n",
        "gamma_hexane"
      ],
      "execution_count": 11,
      "outputs": [
        {
          "output_type": "execute_result",
          "data": {
            "text/plain": [
              "1.386032386019348"
            ]
          },
          "metadata": {
            "tags": []
          },
          "execution_count": 11
        }
      ]
    },
    {
      "metadata": {
        "id": "Xa7Hs_e54JZS",
        "colab_type": "code",
        "colab": {
          "base_uri": "https://localhost:8080/",
          "height": 34
        },
        "outputId": "5bce1f5e-ce3b-4cac-ab71-917b203336b8"
      },
      "cell_type": "code",
      "source": [
        "gamma_ethanol = Psys / PS_ethanol\n",
        "gamma_ethanol"
      ],
      "execution_count": 12,
      "outputs": [
        {
          "output_type": "execute_result",
          "data": {
            "text/plain": [
              "2.2906225319743885"
            ]
          },
          "metadata": {
            "tags": []
          },
          "execution_count": 12
        }
      ]
    },
    {
      "metadata": {
        "id": "XH2BxtSc-ZOP",
        "colab_type": "text"
      },
      "cell_type": "markdown",
      "source": [
        "Nous allons calculer les paramètres de van Laar"
      ]
    },
    {
      "metadata": {
        "id": "TcAiq_To-YbH",
        "colab_type": "code",
        "colab": {}
      },
      "cell_type": "code",
      "source": [
        "A, B = compute_vanlaar_params(gamma_hexane, gamma_ethanol, xH_azeo)"
      ],
      "execution_count": 0,
      "outputs": []
    },
    {
      "metadata": {
        "id": "6BtZHj4d__3B",
        "colab_type": "code",
        "colab": {
          "base_uri": "https://localhost:8080/",
          "height": 34
        },
        "outputId": "8cd5c116-6887-4f76-c7e1-fc9943fdef65"
      },
      "cell_type": "code",
      "source": [
        "gammaH, gammaE = vanlaar(A, B, 0.6)\n",
        "(gammaH, gammaE)"
      ],
      "execution_count": 14,
      "outputs": [
        {
          "output_type": "execute_result",
          "data": {
            "text/plain": [
              "(1.0462273603586822, 2.843698478867334)"
            ]
          },
          "metadata": {
            "tags": []
          },
          "execution_count": 14
        }
      ]
    },
    {
      "metadata": {
        "id": "sQ0yRM2zCb1C",
        "colab_type": "text"
      },
      "cell_type": "markdown",
      "source": [
        "Je veux calculer la température d'ébullition pour xA = xB = 0.5"
      ]
    },
    {
      "metadata": {
        "id": "ZE4j2UAvu6Oh",
        "colab_type": "code",
        "colab": {}
      },
      "cell_type": "code",
      "source": [
        "def equation(Teb, prod1, prod2, xA, gammaA, gammaB):\n",
        "    return corrected_raoult(prod1, xA, Teb, gammaA) + corrected_raoult(prod2, 1-xA, Teb, gammaB) - Psys\n",
        "\n"
      ],
      "execution_count": 0,
      "outputs": []
    },
    {
      "metadata": {
        "id": "s2el110evnGF",
        "colab_type": "code",
        "colab": {
          "base_uri": "https://localhost:8080/",
          "height": 34
        },
        "outputId": "c42ca4b2-7e43-4f47-9006-6998cde7996b"
      },
      "cell_type": "code",
      "source": [
        "opt.fsolve(equation, 69+273, (hexane, ethanol, 0.6, gammaH, gammaE)) - 273.15\n"
      ],
      "execution_count": 16,
      "outputs": [
        {
          "output_type": "execute_result",
          "data": {
            "text/plain": [
              "array([60.01137448])"
            ]
          },
          "metadata": {
            "tags": []
          },
          "execution_count": 16
        }
      ]
    },
    {
      "metadata": {
        "id": "bYKWIlK74YuG",
        "colab_type": "code",
        "colab": {}
      },
      "cell_type": "code",
      "source": [
        ""
      ],
      "execution_count": 0,
      "outputs": []
    }
  ]
}