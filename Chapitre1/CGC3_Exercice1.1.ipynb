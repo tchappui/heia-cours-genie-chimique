{
  "nbformat": 4,
  "nbformat_minor": 0,
  "metadata": {
    "colab": {
      "name": "CGC3-Exercice1.1.ipynb",
      "version": "0.3.2",
      "provenance": [],
      "collapsed_sections": [],
      "include_colab_link": true
    },
    "kernelspec": {
      "name": "python3",
      "display_name": "Python 3"
    }
  },
  "cells": [
    {
      "cell_type": "markdown",
      "metadata": {
        "id": "view-in-github",
        "colab_type": "text"
      },
      "source": [
        "[View in Colaboratory](https://colab.research.google.com/github/tchappui/heia-cours-genie-chimique/blob/master/Chapitre1/CGC3_Exercice1.1.ipynb)"
      ]
    },
    {
      "metadata": {
        "id": "-GOxgPB7v52i",
        "colab_type": "text"
      },
      "cell_type": "markdown",
      "source": [
        "# Exercice 1.1\n",
        "\n"
      ]
    },
    {
      "metadata": {
        "id": "1npR7_mHwHEr",
        "colab_type": "text"
      },
      "cell_type": "markdown",
      "source": [
        "On commence par rechercher les contantes sur NIST Webbook et définir les constantes comme par exemple la pression de notre système."
      ]
    },
    {
      "metadata": {
        "id": "iNsnXB8av4oB",
        "colab_type": "code",
        "colab": {}
      },
      "cell_type": "code",
      "source": [
        "benzene = {\n",
        "    'A': 4.72583,\t\n",
        "    'B': 1660.652,\n",
        "    'C': -1.461\n",
        "}\n",
        "\n",
        "toluene = {\n",
        "    'A': 4.07827,\n",
        "    'B': 1343.943,\n",
        "    'C': -53.773\n",
        "}\n",
        "\n",
        "Tsys = 90 + 273.15 # K"
      ],
      "execution_count": 0,
      "outputs": []
    },
    {
      "metadata": {
        "id": "wwRLJgeswyHm",
        "colab_type": "code",
        "colab": {}
      },
      "cell_type": "code",
      "source": [
        "def antoine(produit, T):\n",
        "    \"\"\"Calcule la pression de vapeur saturante pour un produit\n",
        "    donné en bar à une température T donnée en K.\n",
        "    \"\"\"\n",
        "    log10_p = produit['A'] - produit['B'] / (T + produit['C'])\n",
        "    return 10 ** log10_p"
      ],
      "execution_count": 0,
      "outputs": []
    },
    {
      "metadata": {
        "id": "1Lwe3xFgxJEX",
        "colab_type": "code",
        "colab": {}
      },
      "cell_type": "code",
      "source": [
        "def raoult(produit, x, T):\n",
        "    \"\"\"Calcule la pression partielle d'un produit à l'aide de la loi de Raoult\n",
        "    à une température T donnée en K et une fraction molaire x.\n",
        "    \"\"\"\n",
        "    return x * antoine(produit, T)"
      ],
      "execution_count": 0,
      "outputs": []
    },
    {
      "metadata": {
        "id": "PGxEZH6tx-7r",
        "colab_type": "code",
        "colab": {
          "base_uri": "https://localhost:8080/",
          "height": 34
        },
        "outputId": "5daf936f-2a36-41db-f3c9-319ba58dda4b"
      },
      "cell_type": "code",
      "source": [
        "Psys = raoult(benzene, 0.3, Tsys) + raoult(toluene, 0.7, Tsys)\n",
        "print(f\"La pression d'ébullition de notre mélange est de {Psys:.4} (bar)\")"
      ],
      "execution_count": 4,
      "outputs": [
        {
          "output_type": "stream",
          "text": [
            "La pression d'ébullition de notre mélange est de 0.7885 (bar)\n"
          ],
          "name": "stdout"
        }
      ]
    },
    {
      "metadata": {
        "id": "J5iYHNg1yPO7",
        "colab_type": "code",
        "colab": {
          "base_uri": "https://localhost:8080/",
          "height": 34
        },
        "outputId": "d85a1825-d2b6-4c76-ea6d-38ba26344c60"
      },
      "cell_type": "code",
      "source": [
        "yB = raoult(benzene, 0.3, Tsys) / Psys\n",
        "yB"
      ],
      "execution_count": 5,
      "outputs": [
        {
          "output_type": "execute_result",
          "data": {
            "text/plain": [
              "0.5185459031787203"
            ]
          },
          "metadata": {
            "tags": []
          },
          "execution_count": 5
        }
      ]
    },
    {
      "metadata": {
        "id": "hGa431Qa2SJU",
        "colab_type": "code",
        "colab": {
          "base_uri": "https://localhost:8080/",
          "height": 34
        },
        "outputId": "8fd413f0-76ae-4fbd-c3c0-7ee1d59e6993"
      },
      "cell_type": "code",
      "source": [
        "raoult(benzene, 0.3, Tsys)"
      ],
      "execution_count": 6,
      "outputs": [
        {
          "output_type": "execute_result",
          "data": {
            "text/plain": [
              "0.4088558928747777"
            ]
          },
          "metadata": {
            "tags": []
          },
          "execution_count": 6
        }
      ]
    },
    {
      "metadata": {
        "id": "6zPIWKX92Ruf",
        "colab_type": "code",
        "colab": {
          "base_uri": "https://localhost:8080/",
          "height": 34
        },
        "outputId": "dd6d469a-fea3-4d49-c854-ff18df01e70c"
      },
      "cell_type": "code",
      "source": [
        "raoult(toluene, 0.7, Tsys)"
      ],
      "execution_count": 7,
      "outputs": [
        {
          "output_type": "execute_result",
          "data": {
            "text/plain": [
              "0.37961025904825235"
            ]
          },
          "metadata": {
            "tags": []
          },
          "execution_count": 7
        }
      ]
    },
    {
      "metadata": {
        "id": "HyQ1Fl4Ryo0A",
        "colab_type": "code",
        "colab": {}
      },
      "cell_type": "code",
      "source": [
        ""
      ],
      "execution_count": 0,
      "outputs": []
    }
  ]
}